{
  "nbformat": 4,
  "nbformat_minor": 0,
  "metadata": {
    "colab": {
      "provenance": [],
      "collapsed_sections": [],
      "toc_visible": true
    },
    "kernelspec": {
      "name": "python3",
      "display_name": "Python 3"
    }
  },
  "cells": [
    {
      "cell_type": "markdown",
      "metadata": {
        "id": "JTvtibS5O1NI"
      },
      "source": [
        "#Intro to Python\n",
        "\n",
        "This is an introduction to Python that was written for [CIS 4210/5210](http://artificial-intelligence-class.org)\n"
      ]
    },
    {
      "cell_type": "code",
      "metadata": {
        "id": "lgqfHExgO3q3"
      },
      "source": [
        "print(\"Hello world! Nice to see you again!\")"
      ],
      "execution_count": null,
      "outputs": []
    },
    {
      "cell_type": "markdown",
      "metadata": {
        "id": "fGmyUhj0PYgW"
      },
      "source": [
        "#Whitespace"
      ]
    },
    {
      "cell_type": "code",
      "metadata": {
        "id": "1V7VYMaZPZt9"
      },
      "source": [
        "i = 10\n",
        "if i > 0:\n",
        "  print(\"you're good\")\n",
        "  i = 1\n",
        "else:\n",
        "  print(\"you're negative\")\n",
        "print(\"end of block\")"
      ],
      "execution_count": null,
      "outputs": []
    },
    {
      "cell_type": "markdown",
      "metadata": {
        "id": "xl1YRb95Qiia"
      },
      "source": [
        "#Types"
      ]
    },
    {
      "cell_type": "code",
      "metadata": {
        "id": "CyL9iRyCilYn"
      },
      "source": [
        "a = \"hello\"\n",
        "b = \" world\"\n",
        "print(a+b)"
      ],
      "execution_count": null,
      "outputs": []
    },
    {
      "cell_type": "code",
      "metadata": {
        "id": "MLHd75LNQj-I"
      },
      "source": [
        "i = 0\n",
        "print(type(i))\n",
        "i = \"hello world\"\n",
        "print(type(i))\n",
        "isinstance(i, str)"
      ],
      "execution_count": null,
      "outputs": []
    },
    {
      "cell_type": "code",
      "metadata": {
        "id": "BCA-c4ZCRy4k"
      },
      "source": [
        "2**8"
      ],
      "execution_count": null,
      "outputs": []
    },
    {
      "cell_type": "markdown",
      "metadata": {
        "id": "u3UW0iRvSuS7"
      },
      "source": [
        "#Strings"
      ]
    },
    {
      "cell_type": "code",
      "metadata": {
        "id": "jyAsafpdSvCH"
      },
      "source": [
        "print(\"%s can speak %9d languages\" % (\"C3PO\", 6000000))\n",
        "print(\"%s can speak %9d languages\" % (\"R2D2\", 0))"
      ],
      "execution_count": null,
      "outputs": []
    },
    {
      "cell_type": "code",
      "metadata": {
        "id": "trsSMMRKTTG-"
      },
      "source": [
        "x = \"    hello world  \"\n",
        "y = x\n",
        "print(x is y)\n",
        "x = x.strip() # new object\n",
        "print(x)\n",
        "print(x is y)"
      ],
      "execution_count": null,
      "outputs": []
    },
    {
      "cell_type": "markdown",
      "metadata": {
        "id": "4C_bKlUuUjLH"
      },
      "source": [
        "#Lists"
      ]
    },
    {
      "cell_type": "code",
      "metadata": {
        "id": "jI6yEtagUkgw"
      },
      "source": [
        "l1 = [1, 2, 3]\n",
        "l2 = l1[:]\n",
        "\n",
        "l2"
      ],
      "execution_count": null,
      "outputs": []
    },
    {
      "cell_type": "code",
      "metadata": {
        "id": "ggajzm54XZ_H"
      },
      "source": [
        "li = ['d', 'e', 'a', 'b', 'c']\n",
        "li.sort()\n",
        "li.reverse()\n",
        "print(li)"
      ],
      "execution_count": null,
      "outputs": []
    },
    {
      "cell_type": "markdown",
      "metadata": {
        "id": "-s6KEM09X6l3"
      },
      "source": [
        "#Strings"
      ]
    },
    {
      "cell_type": "code",
      "metadata": {
        "id": "HbG1Mo2mX8GI"
      },
      "source": [
        "to2c = \"         it was the best of times. It was the worst of times.  it was the age of enlightment.  It was the age of misinformation.\"\n",
        "words = to2c.split(\" \")\n",
        "#print(words)\n",
        "to2c = to2c.upper()\n",
        "print(to2c)"
      ],
      "execution_count": null,
      "outputs": []
    },
    {
      "cell_type": "code",
      "metadata": {
        "id": "nBqakUEYYTNC"
      },
      "source": [
        "d = {'classNum':521, 'className':'AI' }\n",
        "d['className'] = \"Artifical Intelligence\"\n",
        "d['className']"
      ],
      "execution_count": null,
      "outputs": []
    },
    {
      "cell_type": "markdown",
      "metadata": {
        "id": "G5z1dgclVmnn"
      },
      "source": [
        "#Tuples"
      ]
    },
    {
      "cell_type": "code",
      "metadata": {
        "id": "IQq2iV8oo5Dd"
      },
      "source": [
        "fruit = ['apples', 'oranges', 'grapes']\n",
        "for i, grocery in enumerate(fruit):\n",
        "  print(i, grocery)"
      ],
      "execution_count": null,
      "outputs": []
    },
    {
      "cell_type": "code",
      "metadata": {
        "id": "3nyV1FueVoRx"
      },
      "source": [
        "tu = (1, 2, 3)\n",
        "lis = [1, 2, 3]\n",
        "st = \"123\"\n",
        "lis[0] = -1\n",
        "print(tu[0])\n",
        "print(lis[0])\n",
        "print(st[0])"
      ],
      "execution_count": null,
      "outputs": []
    },
    {
      "cell_type": "code",
      "metadata": {
        "id": "pp3eRBnpPm0w"
      },
      "source": [],
      "execution_count": null,
      "outputs": []
    },
    {
      "cell_type": "code",
      "metadata": {
        "id": "nGSvqyojWZOq"
      },
      "source": [
        "li = [23, 'abc', 4.6, (2,3), 'def']\n",
        "#print(tu[1:4])\n",
        "\n",
        "st = \"hello world\"\n",
        "#print(st[0:5])\n",
        "\n",
        "#st[:-3]\n",
        "#st[4:]\n",
        "li2 = li[:]\n",
        "li.append(\"I hope you are well.\")\n",
        "print(li)\n",
        "print(li2)"
      ],
      "execution_count": null,
      "outputs": []
    },
    {
      "cell_type": "code",
      "metadata": {
        "id": "dqhprfb8p407"
      },
      "source": [
        "d = {}\n",
        "d['what is your favorite class'] = 'nets 213'\n",
        "print(d['what is your favorite class'])\n",
        "d['what is your favorite class'] = 'cis 521'\n",
        "print(d['what is your favorite class'])"
      ],
      "execution_count": null,
      "outputs": []
    },
    {
      "cell_type": "code",
      "metadata": {
        "id": "622Aoo8MqQzT"
      },
      "source": [
        "from collections import Counter\n",
        "d = Counter()\n",
        "words = to2c.split(' ')\n",
        "for w in words:\n",
        "  d[w] += 1\n",
        "print(d)"
      ],
      "execution_count": null,
      "outputs": []
    },
    {
      "cell_type": "markdown",
      "metadata": {
        "id": "LKmkgMETYxDt"
      },
      "source": [
        "#For loops"
      ]
    },
    {
      "cell_type": "code",
      "metadata": {
        "id": "owpNk_fTq63N"
      },
      "source": [
        "groceries = {'milk': 2, 'eggs': 12, 'beer': 6}\n",
        "for g, count in groceries.items():\n",
        "  print('Remember to buy %d %s.' % (count, g))"
      ],
      "execution_count": null,
      "outputs": []
    },
    {
      "cell_type": "code",
      "metadata": {
        "id": "eDL1_ZyxYygW"
      },
      "source": [
        "for n in range(10):\n",
        "  square = n**2\n",
        "  print(square)"
      ],
      "execution_count": null,
      "outputs": []
    },
    {
      "cell_type": "markdown",
      "metadata": {
        "id": "mMrOLvgpnIsQ"
      },
      "source": [
        "#Iterators\n"
      ]
    },
    {
      "cell_type": "code",
      "metadata": {
        "id": "rykkpV0AW973"
      },
      "source": [
        "for x in range(1000000000000):\n",
        "  if x > 10:\n",
        "    break\n",
        "  print(x)"
      ],
      "execution_count": null,
      "outputs": []
    },
    {
      "cell_type": "code",
      "metadata": {
        "id": "4yv6wXeeqv80"
      },
      "source": [
        "class Student: \n",
        "  univ = 'upenn'\n",
        "  \n",
        "  def __init__(self,name,dept):\n",
        "    self.student_name=name\n",
        "    self.student_dept=dept\n",
        "    \n",
        "  def print_details(self):\n",
        "    print(\"Name: \", self.student_name)\n",
        "    print(\"Dept: \", self.student_dept)\n",
        "    \n",
        "student1 = Student(\"julie\", \"cis\")\n",
        "student2 = Student(\"yue\", \"ling\")\n",
        "student1.print_details()"
      ],
      "execution_count": null,
      "outputs": []
    },
    {
      "cell_type": "markdown",
      "metadata": {
        "id": "38pNaoMJ4PL0"
      },
      "source": [
        "#For loops"
      ]
    },
    {
      "cell_type": "code",
      "metadata": {
        "id": "YxXdpOSF4RSP"
      },
      "source": [
        "for i, item in enumerate(['a', 'b', 'c']):\n",
        "  print(i, item)"
      ],
      "execution_count": null,
      "outputs": []
    },
    {
      "cell_type": "markdown",
      "metadata": {
        "id": "nGLPXgF65MRZ"
      },
      "source": [
        "#List Comprehensions"
      ]
    },
    {
      "cell_type": "code",
      "metadata": {
        "id": "mdMB4kXl5PHk"
      },
      "source": [
        "nums = list(range(10))\n",
        "sq = []\n",
        "for n in nums:\n",
        "  sq.append(n*n)\n",
        "print(sq)"
      ],
      "execution_count": null,
      "outputs": []
    },
    {
      "cell_type": "code",
      "metadata": {
        "id": "ZV1VQAJR5i7g"
      },
      "source": [
        "sq2 = [n*n for n in range(10)]\n",
        "print(sq2)"
      ],
      "execution_count": null,
      "outputs": []
    },
    {
      "cell_type": "code",
      "metadata": {
        "id": "EjpfucYP6DwU"
      },
      "source": [
        "sq3 = [n*n for n in range(10000) if n < 5]\n",
        "print(sq3)"
      ],
      "execution_count": null,
      "outputs": []
    },
    {
      "cell_type": "code",
      "metadata": {
        "id": "EW8QQl6i6Tww"
      },
      "source": [
        "d = {}\n",
        "d[1] = 1\n",
        "d[2] = 4\n",
        "d[3] = 9\n",
        "print(d)"
      ],
      "execution_count": null,
      "outputs": []
    },
    {
      "cell_type": "code",
      "metadata": {
        "id": "ObRZ5ng-6i9m"
      },
      "source": [
        "sq_d = {n: n*n for n in range(10000)}\n",
        "sq_d[984]"
      ],
      "execution_count": null,
      "outputs": []
    },
    {
      "cell_type": "code",
      "metadata": {
        "id": "i-WuEGvH5YQF"
      },
      "source": [
        "for i in range(1000000000000):\n",
        "  if i > 5:\n",
        "    break\n",
        "  print(i)"
      ],
      "execution_count": null,
      "outputs": []
    },
    {
      "cell_type": "markdown",
      "metadata": {
        "id": "YYjnPTJy930p"
      },
      "source": [
        "#Generators"
      ]
    },
    {
      "cell_type": "code",
      "metadata": {
        "id": "5VEXkNHy96zS"
      },
      "source": [
        "def f(n):\n",
        "  yield n\n",
        "  yield n+1\n",
        "\n",
        "#for i in f(10):\n",
        "#  print(i)\n",
        "\n",
        "#type(f(100))\n",
        "\n",
        "gen = f(19)\n",
        "type(gen)\n",
        "\n",
        "print(gen.__next__())\n",
        "print(gen.__next__())\n",
        "#print(gen.__next__())"
      ],
      "execution_count": null,
      "outputs": []
    },
    {
      "cell_type": "code",
      "metadata": {
        "id": "ecgNo1Fw_zYH"
      },
      "source": [
        "def merge(l, r):\n",
        "  \"\"\" merging two sorted lists, and returning\n",
        "      their combined values in sorted order \n",
        "  \"\"\"\n",
        "  llen, rlen, i, j = len(l), len(r), 0, 0\n",
        "  while i < llen or j < rlen:\n",
        "    if j == rlen or (i < llen and l[i] < r[j]):\n",
        "      yield l[i]\n",
        "      i += 1\n",
        "    else:\n",
        "      yield r[j]\n",
        "      j+=1\n",
        "      \n",
        "evens = [n for n in range(1100000) if n%2==0]\n",
        "odds = [n for n in range(100000) if n%2==1]\n",
        "#print(odds)\n",
        "for num in merge(evens, odds):\n",
        "   print(num)\n",
        "   if num > 10:\n",
        "     break"
      ],
      "execution_count": null,
      "outputs": []
    },
    {
      "cell_type": "markdown",
      "metadata": {
        "id": "3LCusWZAtyi1"
      },
      "source": [
        "# Imports\n"
      ]
    },
    {
      "cell_type": "code",
      "metadata": {
        "id": "VFM5gXwiBgS2"
      },
      "source": [
        "!pip install nltk"
      ],
      "execution_count": null,
      "outputs": []
    },
    {
      "cell_type": "code",
      "metadata": {
        "id": "fnizX1ZJBzMh"
      },
      "source": [
        "import math \n",
        "math.sqrt(9)"
      ],
      "execution_count": null,
      "outputs": []
    },
    {
      "cell_type": "code",
      "metadata": {
        "id": "bhmg71twCJx7"
      },
      "source": [
        "import queue as Q\n",
        "q = Q.PriorityQueue()\n",
        "q.put((100, \"a\"))\n",
        "q.put((-10, \"b\"))\n",
        "q.put((23, \"c\"))\n",
        "while not q.empty():\n",
        "  print(q.get()[1])"
      ],
      "execution_count": null,
      "outputs": []
    },
    {
      "cell_type": "markdown",
      "metadata": {
        "id": "lMCr0xs4DiuV"
      },
      "source": [
        "#Functions"
      ]
    },
    {
      "cell_type": "code",
      "metadata": {
        "id": "I0eDMjY5Dj0Q"
      },
      "source": [
        "def myfun(b, c=3, d=\"hello world\"):\n",
        "  return b+c\n",
        "\n",
        "myfun(10)\n",
        "#myfun(2,d=\"hi\",c=300)"
      ],
      "execution_count": null,
      "outputs": []
    },
    {
      "cell_type": "code",
      "metadata": {
        "id": "GQJR60-sFIHT"
      },
      "source": [
        "def add_everything(*args):\n",
        "  sum = 0\n",
        "  for elem in args:\n",
        "    sum += elem\n",
        "  return sum\n",
        "\n",
        "add_everything(1,2,3,4,5,6,1000,50,-100,20.00)"
      ],
      "execution_count": null,
      "outputs": []
    },
    {
      "cell_type": "code",
      "metadata": {
        "id": "S4kQ8ZrxGFH1"
      },
      "source": [
        "def add_keyword_args(**kwargs):\n",
        "#  for key, value in kwargs.items():\n",
        "#    print(key,value)\n",
        "   return kwargs['c']+kwargs['e']\n",
        "add_keyword_args(d='hello', c=10, e=2.3)"
      ],
      "execution_count": null,
      "outputs": []
    },
    {
      "cell_type": "code",
      "metadata": {
        "id": "gBnWjDr-Hmsy"
      },
      "source": [
        "def compose(f, g, x):\n",
        "  return f(g(x))\n",
        "\n",
        "data = list(range(10))\n",
        "sum(data)\n",
        "#type(sum)\n",
        "#type(str)\n",
        "\n",
        "compose(math.sqrt, max, data)\n"
      ],
      "execution_count": null,
      "outputs": []
    },
    {
      "cell_type": "code",
      "metadata": {
        "id": "b5CZdJ1FIV5L"
      },
      "source": [
        "[int(s) for s in ['1', '99', '10000']]"
      ],
      "execution_count": null,
      "outputs": []
    },
    {
      "cell_type": "code",
      "metadata": {
        "id": "KvaU_btuIe5f"
      },
      "source": [
        "list(map(int, ['1', '99', '10000']))"
      ],
      "execution_count": null,
      "outputs": []
    },
    {
      "cell_type": "markdown",
      "metadata": {
        "id": "JqLuCYxS4yCJ"
      },
      "source": [
        "# Classes\n"
      ]
    },
    {
      "cell_type": "code",
      "metadata": {
        "id": "M53V9prl4xeU"
      },
      "source": [
        "class Student:\n",
        "    univ = \"UPenn\" # class attribute\n",
        "\n",
        "    def  __init__(self, name, dept):\n",
        "        self.student_name = name\n",
        "        self.student_dept = dept\n",
        "    def __str__(self):\n",
        "        stud_str = \"\"\n",
        "        stud_str += \"Name: \" + self.student_name + \"\\n\"\n",
        "        stud_str += \"Dept: \" + self.student_dept + \"\\n\"\n",
        "        return stud_str\n",
        "\n",
        "\n",
        "class AIStudent(Student):\n",
        "   def __init__(self, name, dept, fav_class=\"CIS 521\"):\n",
        "     Student.__init__(self, name, dept) \n",
        "     self.fav_class = fav_class\n",
        "  \n",
        "   def __str__(self):\n",
        "        stud_str = \"\"\n",
        "        stud_str += \"Name: \" + self.student_name + \"\\n\"\n",
        "        stud_str += \"Dept: \" + self.student_dept + \"\\n\"\n",
        "        stud_str += \"Fav Class: \" + self.fav_class + \"\\n\"\n",
        "        return stud_str\n",
        "\n",
        "\n",
        "student1 = AIStudent(\"julie\", \"cis\")\n",
        "#student1.__str__()\n",
        "print(student1)\n",
        "details = Student.__str__(student1)\n",
        "print(details)\n",
        "student1.univ = \"Stanford\"\n",
        "print(student1.univ)\n",
        "print(Student.univ)\n"
      ],
      "execution_count": null,
      "outputs": []
    },
    {
      "cell_type": "code",
      "metadata": {
        "id": "9_34bRkcM7pe"
      },
      "source": [
        "class Student:\n",
        "  def __init__(self, full_name, age):\n",
        "    self.full_name = full_name\n",
        "    self.age = age\n",
        "  def __str__(self):\u000b\n",
        "    return \"I'm named \" + self.full_name + \" – age: \" +  str(self.age)\u000b\n",
        "\n",
        "f = Student(\"Wei Xu\", 23)\n",
        "print(f)\n",
        "           "
      ],
      "execution_count": null,
      "outputs": []
    }
  ]
}